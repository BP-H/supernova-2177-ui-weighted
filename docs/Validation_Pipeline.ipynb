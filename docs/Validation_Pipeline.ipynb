{
 "cells": [
  {
   "cell_type": "markdown",
   "id": "2327e551",
   "metadata": {},
   "source": [
    "# Validation Pipeline Demo\n",
    "\n",
    "This notebook demonstrates running the validation pipeline with the sample data found in `sample_validations.json`.\n",
    "\n",
    "**Launch:**\n",
    "```bash\n",
    "jupyter notebook docs/Validation_Pipeline.ipynb\n",
    "```\n"
   ]
  },
  {
   "cell_type": "code",
   "execution_count": null,
   "id": "00de7343",
   "metadata": {},
   "outputs": [],
   "source": [
    "import json\n",
    "from validation_certifier import analyze_validation_integrity\n",
    "\n",
    "with open('../sample_validations.json') as f:\n",
    "    sample = json.load(f)[\"validations\"]\n",
    "\n",
    "result = analyze_validation_integrity(sample)\n",
    "result\n"
   ]
  }
 ],
 "metadata": {},
 "nbformat": 4,
 "nbformat_minor": 5
}
