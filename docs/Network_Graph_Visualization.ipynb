{
 "cells": [
  {
   "cell_type": "markdown",
   "id": "6545ae12",
   "metadata": {},
   "source": [
    "# Network Graph Visualization\n",
    "\n",
    "This notebook loads `sample_validations.json`, builds a validation graph, and plots it.\n",
    "\n",
    "**Launch:**\n",
    "```bash\n",
    "jupyter notebook docs/Network_Graph_Visualization.ipynb\n",
    "```\n"
   ]
  },
  {
   "cell_type": "code",
   "execution_count": null,
   "id": "f04ac259",
   "metadata": {},
   "outputs": [],
   "source": [
    "import json\n",
    "import networkx as nx\n",
    "import matplotlib.pyplot as plt\n",
    "from network.network_coordination_detector import build_validation_graph\n",
    "\n",
    "with open('../sample_validations.json') as f:\n",
    "    data = json.load(f)[\"validations\"]\n",
    "\n",
    "graph = build_validation_graph(data)\n",
    "G = nx.Graph()\n",
    "G.add_nodes_from(graph['nodes'])\n",
    "for u, v, w in graph['edges']:\n",
    "    G.add_edge(u, v, weight=w)\n",
    "\n",
    "pos = nx.spring_layout(G, seed=42)\n",
    "weights = [G[e[0]][e[1]]['weight']*5 for e in G.edges]\n",
    "plt.figure(figsize=(6,4))\n",
    "nx.draw_networkx(G, pos, width=weights, node_color='lightblue', edge_color='gray')\n",
    "plt.axis('off')\n",
    "plt.show()\n"
   ]
  }
 ],
 "metadata": {},
 "nbformat": 4,
 "nbformat_minor": 5
}
